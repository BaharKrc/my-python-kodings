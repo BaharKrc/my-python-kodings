{
  "nbformat": 4,
  "nbformat_minor": 0,
  "metadata": {
    "colab": {
      "provenance": [],
      "authorship_tag": "ABX9TyNIhyuvJdK6xUlMjMuoR227",
      "include_colab_link": true
    },
    "kernelspec": {
      "name": "python3",
      "display_name": "Python 3"
    },
    "language_info": {
      "name": "python"
    }
  },
  "cells": [
    {
      "cell_type": "markdown",
      "metadata": {
        "id": "view-in-github",
        "colab_type": "text"
      },
      "source": [
        "<a href=\"https://colab.research.google.com/github/BaharKrc/my-python-kodings/blob/main/firstWork.ipynb\" target=\"_parent\"><img src=\"https://colab.research.google.com/assets/colab-badge.svg\" alt=\"Open In Colab\"/></a>"
      ]
    },
    {
      "cell_type": "code",
      "execution_count": 1,
      "metadata": {
        "id": "E-lnT3ZDRbh2",
        "colab": {
          "base_uri": "https://localhost:8080/"
        },
        "outputId": "6f29f22b-1772-46fa-8fc4-a9ac9c56fd11"
      },
      "outputs": [
        {
          "output_type": "stream",
          "name": "stdout",
          "text": [
            "Hello world\n"
          ]
        }
      ],
      "source": [
        "print(\"Hello world\")"
      ]
    },
    {
      "cell_type": "code",
      "source": [
        "print(\"My first coding\")"
      ],
      "metadata": {
        "colab": {
          "base_uri": "https://localhost:8080/"
        },
        "id": "A7sWDZiLXc-C",
        "outputId": "31e82008-b74c-4b61-a58e-07b222af5e37"
      },
      "execution_count": 2,
      "outputs": [
        {
          "output_type": "stream",
          "name": "stdout",
          "text": [
            "My first coding\n"
          ]
        }
      ]
    },
    {
      "cell_type": "code",
      "source": [
        "print('''\"Don't do it\" said the manager''')"
      ],
      "metadata": {
        "colab": {
          "base_uri": "https://localhost:8080/"
        },
        "id": "QRIQbjSfbKov",
        "outputId": "8bd9bf1f-0f4a-44c8-e3cc-bb2535eac024"
      },
      "execution_count": 6,
      "outputs": [
        {
          "output_type": "stream",
          "name": "stdout",
          "text": [
            "\"Don't do it\" said the manager\n"
          ]
        }
      ]
    },
    {
      "cell_type": "code",
      "source": [
        "print('\"hi\" he said')"
      ],
      "metadata": {
        "colab": {
          "base_uri": "https://localhost:8080/"
        },
        "id": "o_I4E7ixd_Cq",
        "outputId": "0838a6de-30b4-4456-8700-4faef4f34872"
      },
      "execution_count": 7,
      "outputs": [
        {
          "output_type": "stream",
          "name": "stdout",
          "text": [
            "\"hi\" he said\n"
          ]
        }
      ]
    },
    {
      "cell_type": "code",
      "source": [
        "print(\"I'm great\")"
      ],
      "metadata": {
        "colab": {
          "base_uri": "https://localhost:8080/"
        },
        "id": "PLaNkfz6eLh1",
        "outputId": "189b801b-63de-4a1b-cd62-e05e584abcb7"
      },
      "execution_count": 8,
      "outputs": [
        {
          "output_type": "stream",
          "name": "stdout",
          "text": [
            "I'm great\n"
          ]
        }
      ]
    },
    {
      "cell_type": "code",
      "source": [
        "print('''This is the first line.\n",
        "This is the second line.\n",
        "This is the third line.\n",
        "This is the fourth line.''')"
      ],
      "metadata": {
        "colab": {
          "base_uri": "https://localhost:8080/"
        },
        "id": "My6cCf1vewpE",
        "outputId": "316b03fc-3d7e-4652-87b0-67a80783400c"
      },
      "execution_count": 9,
      "outputs": [
        {
          "output_type": "stream",
          "name": "stdout",
          "text": [
            "This is the first line.\n",
            "This is the second line.\n",
            "This is the third line.\n",
            "This is the fourth line.\n"
          ]
        }
      ]
    },
    {
      "cell_type": "code",
      "source": [
        "print('3.14')\n",
        "print(3.14)"
      ],
      "metadata": {
        "colab": {
          "base_uri": "https://localhost:8080/"
        },
        "id": "nHY11cVxgsFi",
        "outputId": "76c69e98-0e46-4a54-a9ac-80ca0b9063ba"
      },
      "execution_count": 10,
      "outputs": [
        {
          "output_type": "stream",
          "name": "stdout",
          "text": [
            "3.14\n",
            "3.14\n"
          ]
        }
      ]
    },
    {
      "cell_type": "code",
      "source": [
        "print('3.14'*3)\n",
        "print(3.14*3)"
      ],
      "metadata": {
        "colab": {
          "base_uri": "https://localhost:8080/"
        },
        "id": "cqzG7Tbzg5v9",
        "outputId": "bc233d37-8907-4dc8-ee2e-04cac5583666"
      },
      "execution_count": 11,
      "outputs": [
        {
          "output_type": "stream",
          "name": "stdout",
          "text": [
            "3.143.143.14\n",
            "9.42\n"
          ]
        }
      ]
    },
    {
      "cell_type": "code",
      "source": [
        "print(''''We should have enough time for our family\"''')"
      ],
      "metadata": {
        "colab": {
          "base_uri": "https://localhost:8080/"
        },
        "id": "m3zonjw7ho9h",
        "outputId": "ce2186f2-75d4-471b-ce15-aee190eea408"
      },
      "execution_count": 12,
      "outputs": [
        {
          "output_type": "stream",
          "name": "stdout",
          "text": [
            "'We should have enough time for our family\"\n"
          ]
        }
      ]
    },
    {
      "cell_type": "code",
      "source": [
        "print('one')\n",
        "print()\n",
        "print('two')\n",
        "print()\n",
        "print('three')\n",
        "print()\n",
        "print('four')"
      ],
      "metadata": {
        "colab": {
          "base_uri": "https://localhost:8080/"
        },
        "id": "XpEC_9DaieCz",
        "outputId": "5ef66f64-b71c-4174-e9d2-0504107c66c2"
      },
      "execution_count": 13,
      "outputs": [
        {
          "output_type": "stream",
          "name": "stdout",
          "text": [
            "one\n",
            "\n",
            "two\n",
            "\n",
            "three\n",
            "\n",
            "four\n"
          ]
        }
      ]
    },
    {
      "cell_type": "code",
      "source": [
        "print('')\n",
        "print()"
      ],
      "metadata": {
        "colab": {
          "base_uri": "https://localhost:8080/"
        },
        "id": "NnLAUluHi7hr",
        "outputId": "0cd3c465-6115-4775-cf80-2cbaab0fd2ee"
      },
      "execution_count": 14,
      "outputs": [
        {
          "output_type": "stream",
          "name": "stdout",
          "text": [
            "\n",
            "\n"
          ]
        }
      ]
    },
    {
      "cell_type": "code",
      "source": [
        "print('I\\'m great')"
      ],
      "metadata": {
        "colab": {
          "base_uri": "https://localhost:8080/"
        },
        "id": "Ozap-7mrkLBx",
        "outputId": "83d27fc3-65dc-4b9c-8f64-549e77c9e2f2"
      },
      "execution_count": 15,
      "outputs": [
        {
          "output_type": "stream",
          "name": "stdout",
          "text": [
            "I'm great\n"
          ]
        }
      ]
    },
    {
      "cell_type": "code",
      "source": [
        "print(\"\\\"don't do it\\\" said the manager\") # \\ ile tirnak ayirimi"
      ],
      "metadata": {
        "colab": {
          "base_uri": "https://localhost:8080/"
        },
        "id": "rOQ11l0Nki1t",
        "outputId": "4c2d5d96-c2b7-4f67-df99-e3a5390f9eb9"
      },
      "execution_count": 16,
      "outputs": [
        {
          "output_type": "stream",
          "name": "stdout",
          "text": [
            "\"don't do it\" said the manager\n"
          ]
        }
      ]
    },
    {
      "cell_type": "code",
      "source": [
        "print('this is my sentence \\nthis is the second line') # \\n satir boslugu icin"
      ],
      "metadata": {
        "colab": {
          "base_uri": "https://localhost:8080/"
        },
        "id": "weNVOoZolG97",
        "outputId": "fa47254c-9a2d-4a56-f37f-fd4f208a4086"
      },
      "execution_count": 17,
      "outputs": [
        {
          "output_type": "stream",
          "name": "stdout",
          "text": [
            "this is my sentence \n",
            "this is the second line\n"
          ]
        }
      ]
    },
    {
      "cell_type": "code",
      "source": [
        "print('this is my sentence \\tthis is the second line') # \\t tab gørevi gørur"
      ],
      "metadata": {
        "colab": {
          "base_uri": "https://localhost:8080/"
        },
        "id": "InKceP_7lye2",
        "outputId": "4747233b-a125-419f-f0a2-396d6309d69d"
      },
      "execution_count": 19,
      "outputs": [
        {
          "output_type": "stream",
          "name": "stdout",
          "text": [
            "this is my sentence \tthis is the second line\n"
          ]
        }
      ]
    }
  ]
}